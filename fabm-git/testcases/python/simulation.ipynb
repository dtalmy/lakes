{
 "cells": [
  {
   "cell_type": "code",
   "execution_count": null,
   "metadata": {},
   "outputs": [],
   "source": [
    "import os\n",
    "import glob\n",
    "from ipywidgets import Dropdown, Label, FloatText, VBox, HBox"
   ]
  },
  {
   "cell_type": "code",
   "execution_count": null,
   "metadata": {},
   "outputs": [],
   "source": [
    "# Show available test cases\n",
    "testcases = [(os.path.basename(path)[:-5], path) for path in glob.glob('../*.yaml')]\n",
    "dropdown = Dropdown(options=testcases, description='Test case:')\n",
    "display(dropdown)"
   ]
  },
  {
   "cell_type": "code",
   "execution_count": null,
   "metadata": {},
   "outputs": [],
   "source": [
    "# Initialize the test case (this reads fabm.yaml)\n",
    "import pyfabm\n",
    "model = pyfabm.Model(dropdown.value)"
   ]
  },
  {
   "cell_type": "code",
   "execution_count": null,
   "metadata": {},
   "outputs": [],
   "source": [
    "# Present configurable environmental conditions\n",
    "default_environment = {\n",
    "    'temperature': 15,\n",
    "    'practical_salinity': 35,\n",
    "    'surface_downwelling_photosynthetic_radiative_flux': 50,\n",
    "    'downwelling_photosynthetic_radiative_flux': 10,\n",
    "    'bottom_depth': 10,\n",
    "    'density': 1020\n",
    "}\n",
    "labels, inputs = [], []\n",
    "for variable in model.dependencies:\n",
    "    labels.append(Label('%s:' % variable.long_name))\n",
    "    inputs.append(FloatText(value=default_environment.get(variable.name, 0.), layout={'width': '7em'}))\n",
    "display(HBox((VBox(labels), VBox(inputs))))"
   ]
  },
  {
   "cell_type": "code",
   "execution_count": null,
   "metadata": {},
   "outputs": [],
   "source": [
    "# Transfer environmental conditions to model\n",
    "for variable, widget in zip(model.dependencies, inputs):\n",
    "    variable.value = widget.value\n",
    "assert model.start(), 'Model failed to start: %s' % pyfabm.getError()"
   ]
  },
  {
   "cell_type": "code",
   "execution_count": null,
   "metadata": {},
   "outputs": [],
   "source": [
    "# Time integrate\n",
    "import numpy\n",
    "import scipy.integrate\n",
    "\n",
    "# Time derivative\n",
    "def dy(y, t0):\n",
    "    model.state[:] = y\n",
    "    return model.getRates(t0)\n",
    "\n",
    "# Time-integrate over 200 days (note: FABM's internal time unit is seconds!)\n",
    "t = numpy.arange(0, 200., 1)\n",
    "y = scipy.integrate.odeint(dy, model.state, t*86400)"
   ]
  },
  {
   "cell_type": "code",
   "execution_count": null,
   "metadata": {},
   "outputs": [],
   "source": [
    "# Plot results\n",
    "%matplotlib notebook\n",
    "from matplotlib import pyplot\n",
    "pyplot.plot(t, y)\n",
    "pyplot.legend([variable.long_path for variable in model.state_variables])\n",
    "pyplot.show()"
   ]
  },
  {
   "cell_type": "code",
   "execution_count": null,
   "metadata": {},
   "outputs": [],
   "source": [
    "model.state"
   ]
  },
  {
   "cell_type": "code",
   "execution_count": null,
   "metadata": {},
   "outputs": [],
   "source": []
  }
 ],
 "metadata": {
  "kernelspec": {
   "display_name": "Python 3",
   "language": "python",
   "name": "python3"
  },
  "language_info": {
   "codemirror_mode": {
    "name": "ipython",
    "version": 3
   },
   "file_extension": ".py",
   "mimetype": "text/x-python",
   "name": "python",
   "nbconvert_exporter": "python",
   "pygments_lexer": "ipython3",
   "version": "3.7.3"
  }
 },
 "nbformat": 4,
 "nbformat_minor": 2
}
